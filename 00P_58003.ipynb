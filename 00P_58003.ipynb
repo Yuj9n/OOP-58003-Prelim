{
  "nbformat": 4,
  "nbformat_minor": 0,
  "metadata": {
    "colab": {
      "name": "00P 58003",
      "provenance": [],
      "authorship_tag": "ABX9TyMoq8S6ZBrce7F9GR5vVXQ7",
      "include_colab_link": true
    },
    "kernelspec": {
      "name": "python3",
      "display_name": "Python 3"
    },
    "language_info": {
      "name": "python"
    }
  },
  "cells": [
    {
      "cell_type": "markdown",
      "metadata": {
        "id": "view-in-github",
        "colab_type": "text"
      },
      "source": [
        "<a href=\"https://colab.research.google.com/github/Yuj9n/OOP-58003/blob/main/00P_58003.ipynb\" target=\"_parent\"><img src=\"https://colab.research.google.com/assets/colab-badge.svg\" alt=\"Open In Colab\"/></a>"
      ]
    },
    {
      "cell_type": "markdown",
      "source": [
        "Problem 2. (50 points)\n",
        "\n",
        "Write a Python to display your full name, student number, age, and course\n",
        "Create a class named Student with attributes: Name, Student_No, Age, School, and Course\n",
        "Create an object name Myself and assign an instance for each attribute.\n",
        "Create a method Self () using an instantiation of a class.\n",
        "Insert your GitHub link \"Prelim Exam\" from your repository named \"OOP 58003\""
      ],
      "metadata": {
        "id": "B04uF4mCJK7O"
      }
    },
    {
      "cell_type": "code",
      "source": [
        "class Student:\n",
        "  def __init__ (self,student,number,age,school,course):\n",
        "    self.student = student\n",
        "    self.number = number\n",
        "    self.age = age\n",
        "    self.school = school\n",
        "    self.course\n",
        "\n",
        "    def myFunction(self):\n",
        "      print(\"I am \",self.student,\"my age is\",self.age, \"my student number is\",self.number,\n",
        "      \"studying in\", self.school, \"and I am taking\", self.course)\n",
        "\n",
        "      p1= Person(\"Dela Cerna, Eugene Brian B.\", 202150317, 19, \"Adamson University\",\n",
        "      \"Computer Engineering\")\n",
        "      p1.myFunction()\n",
        "  "
      ],
      "metadata": {
        "id": "C8Ea_jX9J6QA"
      },
      "execution_count": 11,
      "outputs": []
    }
  ]
}